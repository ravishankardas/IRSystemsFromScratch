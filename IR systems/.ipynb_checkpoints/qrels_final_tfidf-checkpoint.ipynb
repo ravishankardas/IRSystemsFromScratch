{
 "cells": [
  {
   "cell_type": "code",
   "execution_count": 1,
   "metadata": {},
   "outputs": [],
   "source": [
    "import pickle\n",
    "from nltk.tokenize import word_tokenize\n",
    "import re\n",
    "from nltk.corpus import stopwords\n",
    "import numpy as np\n",
    "from num2words import num2words\n",
    "from math import *\n",
    "from nltk.stem import PorterStemmer\n",
    "from nltk.corpus import stopwords\n",
    "import pandas as pd\n",
    "import numpy as np"
   ]
  },
  {
   "cell_type": "code",
   "execution_count": 2,
   "metadata": {},
   "outputs": [],
   "source": [
    "query_list ={}\n",
    "# file_name = sys.argv[1]\n",
    "# file_name+=\".txt\"\n",
    "# query = open(file_name,'r')\n",
    "query = open('qrels_question.txt','r')"
   ]
  },
  {
   "cell_type": "code",
   "execution_count": 3,
   "metadata": {},
   "outputs": [],
   "source": [
    "for q in query:\n",
    "    new_text = q.split(\"\\t\")\n",
    "    query_list[new_text[1].replace(\"\\n\",\"\")] = new_text[0].replace(\"\\n\", \"\")"
   ]
  },
  {
   "cell_type": "code",
   "execution_count": 4,
   "metadata": {},
   "outputs": [],
   "source": [
    "obj=PorterStemmer()\n",
    "stop_words=set(stopwords.words('english'))"
   ]
  },
  {
   "cell_type": "code",
   "execution_count": 5,
   "metadata": {},
   "outputs": [],
   "source": [
    "def preprocess(querytext):\n",
    "    text=str(np.char.lower(querytext))\n",
    "    new_text = re.sub(r'[^\\w\\s]',' ',text)\n",
    "    token_list=word_tokenize(new_text)\n",
    "    word_list=token_list\n",
    "    for ind,word in enumerate(word_list):\n",
    "        if word.isdigit() and len(word)<4:\n",
    "            word_list[ind]=num2words(int(word))\n",
    "\n",
    "    word_list=' '.join(word_list)\n",
    "    word_list=re.sub(r'[^\\w\\s]',' ',word_list)\n",
    "    word_list=word_tokenize(word_list)\n",
    "    word_list=[word for word in word_list if word not in stop_words]\n",
    "    new_words=list(filter(lambda x:len(x)>1,word_list))\n",
    "    stem_words=[obj.stem(word) for word in new_words]\n",
    "    return stem_words"
   ]
  },
  {
   "cell_type": "code",
   "execution_count": 6,
   "metadata": {},
   "outputs": [],
   "source": [
    "file=open('postingLists',\"rb\")\n",
    "posting_lists=pickle.load(file)\n",
    "master_unique_words=set(posting_lists.keys())\n",
    "\n",
    "file=open('fileIndex','rb')\n",
    "file_index=pickle.load(file)\n",
    "\n",
    "file=open(\"fileWordList\",'rb')\n",
    "file_words=pickle.load(file)\n",
    "\n",
    "file=open(\"file_norms\",\"rb\")\n",
    "file_norms=pickle.load(file)"
   ]
  },
  {
   "cell_type": "code",
   "execution_count": 7,
   "metadata": {},
   "outputs": [],
   "source": [
    "def tfIDF(word,filename):\n",
    "    idf=np.log((total_docs_size+1)/(len(posting_lists[word])+1))\n",
    "    freq=0\n",
    "    if filename in posting_lists[word].keys():   \n",
    "        freq=posting_lists[word][filename]\n",
    "    tf_idf_val=idf*freq\n",
    "    \n",
    "    return tf_idf_val"
   ]
  },
  {
   "cell_type": "code",
   "execution_count": 8,
   "metadata": {},
   "outputs": [],
   "source": [
    "master_list = {}\n",
    "rel_list = {}\n",
    "for k,v in query_list.items():\n",
    "    master_list[k]=[]\n",
    "    rel_list[k]=[]"
   ]
  },
  {
   "cell_type": "code",
   "execution_count": 9,
   "metadata": {},
   "outputs": [],
   "source": [
    "for key,value in query_list.items():\n",
    "    query_text=key\n",
    "    final_stem_words = preprocess(query_text)\n",
    "    total_docs_size=len(file_index)\n",
    "    # print(final_stem_words)\n",
    "\n",
    "    query_vocab=list(set(final_stem_words))\n",
    "    query_vector=np.zeros(len(query_vocab))\n",
    "\n",
    "    for word in query_vocab:\n",
    "        term_freq=final_stem_words.count(word)\n",
    "        num=0\n",
    "        if word in master_unique_words:\n",
    "            num = len(posting_lists[word])\n",
    "        idf=np.log2((total_docs_size+1)/(num+1))\n",
    "        # print(term_freq*idf)  \n",
    "        query_vector[query_vocab.index(word)]=term_freq*idf\n",
    "        \n",
    "    query_vector=query_vector/np.linalg.norm(query_vector)\n",
    "    document_vector={}\n",
    "\n",
    "    for filename in file_index.keys():\n",
    "        # print(filename)\n",
    "        document_vector[filename]=np.zeros(len(query_vocab))\n",
    "        for word in query_vocab:\n",
    "            if word in master_unique_words:\n",
    "                document_vector[filename][query_vocab.index(word)]=tfIDF(word,filename)\n",
    "        doc_vectors_norm=file_norms[filename]\n",
    "        document_vector[filename]/=doc_vectors_norm\n",
    "\n",
    "    cosine_similarity={}\n",
    "\n",
    "    for value1 in document_vector.keys():\n",
    "        cosine_similarity[value1]=np.dot(document_vector[value1],query_vector)\n",
    "\n",
    "    cosine_similarity=sorted(cosine_similarity.items(),key=lambda x:x[1],reverse=True)\n",
    "    cnt=10\n",
    "    for i in range(len(file_index)):\n",
    "        value2=cosine_similarity[i][0]\n",
    "        if cnt==0:\n",
    "            break\n",
    "        cnt-=1\n",
    "        master_list[key].append(file_index[value2][0])\n",
    "        if value2 == 0:\n",
    "            rel_list[query_text].append(0)\n",
    "        else:\n",
    "            rel_list[query_text].append(1)\n",
    "\n",
    "\n",
    "\n",
    "\n"
   ]
  },
  {
   "cell_type": "code",
   "execution_count": 11,
   "metadata": {},
   "outputs": [],
   "source": [
    "# rel_list"
   ]
  },
  {
   "cell_type": "code",
   "execution_count": 12,
   "metadata": {},
   "outputs": [],
   "source": [
    "df = pd.DataFrame(columns=['queryid','iteration','docid','relevence'])"
   ]
  },
  {
   "cell_type": "code",
   "execution_count": 13,
   "metadata": {},
   "outputs": [],
   "source": [
    "final_list = []\n",
    "the_list = []\n",
    "for i in range(4):\n",
    "    the_list.append([])"
   ]
  },
  {
   "cell_type": "code",
   "execution_count": 14,
   "metadata": {},
   "outputs": [],
   "source": [
    "for k,v, in query_list.items():\n",
    "    docid = v\n",
    "    ind = 0\n",
    "    for doc_name in master_list[k]:\n",
    "        the_list[0].append(v)\n",
    "        the_list[1].append(1)\n",
    "        the_list[2].append(doc_name.split('.')[0])\n",
    "        the_list[3].append(rel_list[k][ind])"
   ]
  },
  {
   "cell_type": "code",
   "execution_count": 15,
   "metadata": {},
   "outputs": [],
   "source": [
    "df['queryid'] = the_list[0]\n",
    "df['iteration'] = the_list[1]\n",
    "df['docid'] = the_list[2]\n",
    "df['relevence'] = the_list[3]"
   ]
  },
  {
   "cell_type": "code",
   "execution_count": 16,
   "metadata": {},
   "outputs": [],
   "source": [
    "df.to_csv('QRels_tfidf.csv',index=False)"
   ]
  },
  {
   "cell_type": "code",
   "execution_count": null,
   "metadata": {},
   "outputs": [],
   "source": []
  }
 ],
 "metadata": {
  "interpreter": {
   "hash": "e16b9bd33e7041c0842013505aab8d96e59e427e4e0c80436ba1b7c1f34f93b5"
  },
  "kernelspec": {
   "display_name": "Python 3 (ipykernel)",
   "language": "python",
   "name": "python3"
  },
  "language_info": {
   "codemirror_mode": {
    "name": "ipython",
    "version": 3
   },
   "file_extension": ".py",
   "mimetype": "text/x-python",
   "name": "python",
   "nbconvert_exporter": "python",
   "pygments_lexer": "ipython3",
   "version": "3.8.10"
  }
 },
 "nbformat": 4,
 "nbformat_minor": 2
}
