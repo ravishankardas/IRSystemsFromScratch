{
 "cells": [
  {
   "cell_type": "code",
   "execution_count": 1,
   "metadata": {},
   "outputs": [],
   "source": [
    "import pickle\n",
    "from nltk.tokenize import word_tokenize\n",
    "import re\n",
    "from nltk.corpus import stopwords\n",
    "import numpy as np\n",
    "import sys\n",
    "from num2words import num2words\n",
    "import math\n",
    "from nltk.stem import PorterStemmer\n",
    "from nltk.corpus import stopwords\n",
    "import pandas as pd\n",
    "import numpy as np"
   ]
  },
  {
   "cell_type": "code",
   "execution_count": 2,
   "metadata": {},
   "outputs": [],
   "source": [
    "query_list = {}\n",
    "# file_name = sys.argv[1]\n",
    "# file_name+=\".txt\"\n",
    "query = open(\"qrels_question.txt\",'r')\n",
    "# query = open(file_name,'r')"
   ]
  },
  {
   "cell_type": "code",
   "execution_count": 3,
   "metadata": {},
   "outputs": [],
   "source": [
    "for q in query:\n",
    "    new_text = q.split(\"\\t\")\n",
    "    query_list[new_text[1].replace(\"\\n\",\"\")] = new_text[0].replace(\"\\n\", \"\")"
   ]
  },
  {
   "cell_type": "code",
   "execution_count": 4,
   "metadata": {},
   "outputs": [],
   "source": [
    "obj=PorterStemmer()\n",
    "stop_words=set(stopwords.words('english'))"
   ]
  },
  {
   "cell_type": "code",
   "execution_count": 5,
   "metadata": {},
   "outputs": [],
   "source": [
    "def preprocess(querytext):\n",
    "    text=str(np.char.lower(querytext))\n",
    "    new_text = re.sub(r'[^\\w\\s]',' ',text)\n",
    "    token_list=word_tokenize(new_text)\n",
    "    word_list=token_list\n",
    "    for ind,word in enumerate(word_list):\n",
    "        if word.isdigit() and len(word)<4:\n",
    "            word_list[ind]=num2words(int(word))\n",
    "\n",
    "    word_list=' '.join(word_list)\n",
    "    word_list=re.sub(r'[^\\w\\s]',' ',word_list)\n",
    "    word_list=word_tokenize(word_list)\n",
    "    word_list=[word for word in word_list if word not in stop_words]\n",
    "    new_words=list(filter(lambda x:len(x)>1,word_list))\n",
    "    stem_words=[obj.stem(word) for word in new_words]\n",
    "    return stem_words"
   ]
  },
  {
   "cell_type": "code",
   "execution_count": 6,
   "metadata": {},
   "outputs": [],
   "source": [
    "file=open('postingLists',\"rb\")\n",
    "posting_lists=pickle.load(file)\n",
    "\n",
    "file=open('fileIndex','rb')\n",
    "file_index=pickle.load(file)\n",
    "\n",
    "file=open(\"fileWordList\",'rb')\n",
    "file_words=pickle.load(file)\n",
    "total_docs_size=len(file_index)\n",
    "k = 1.2\n",
    "b = 0.75"
   ]
  },
  {
   "cell_type": "code",
   "execution_count": 7,
   "metadata": {},
   "outputs": [],
   "source": [
    "master_list = {}\n",
    "rel_list = {}\n",
    "for k,v in query_list.items():\n",
    "    master_list[k]=[]\n",
    "    rel_list[k]=[]"
   ]
  },
  {
   "cell_type": "code",
   "execution_count": 8,
   "metadata": {},
   "outputs": [],
   "source": [
    "for key,value in query_list.items():\n",
    "    query_text=key\n",
    "    final_stem_words = preprocess(query_text)\n",
    "    total_docs_size=len(file_index)\n",
    "    # print(final_stem_words)\n",
    "\n",
    "\n",
    "    total_words = 0\n",
    "    for k,v in file_index.items():\n",
    "        total_words+=v[1]\n",
    "    \n",
    "    l_avg = total_words/total_docs_size\n",
    "    N = len(file_index)\n",
    "    scores = {}\n",
    "    for i in range(N):\n",
    "        scores[i]=0\n",
    "        for word in final_stem_words:\n",
    "            tf=0\n",
    "            doc_length = len(file_words[i])\n",
    "            if word in posting_lists:\n",
    "                if i in posting_lists[word]:\n",
    "                    tf=posting_lists[word][i]\n",
    "            df=0\n",
    "            if word in posting_lists[word]:\n",
    "                df = len(posting_lists[word])\n",
    "            idf=math.log((N-df+0.5)/(df+0.5))\n",
    "            num = idf * tf * (k+1)\n",
    "            den = tf + k*(1-b+b*(doc_length/l_avg))\n",
    "            bm25_score=num/den\n",
    "            scores[i]+=bm25_score  \n",
    "\n",
    "\n",
    "\n",
    "    final_score = {}\n",
    "    relevence = []\n",
    "    for i in scores:\n",
    "        final_score[file_index[i][0]]=scores[i]\n",
    "        \n",
    "\n",
    "    final_score = sorted(final_score.items(),key=lambda x:x[1],reverse=True)\n",
    "\n",
    "\n",
    "    cnt=10\n",
    "    for i in final_score:\n",
    "        if cnt==0:\n",
    "            break\n",
    "        cnt-=1\n",
    "        txt = i[0].split(\".\")[0]\n",
    "        if i[1] == 0:\n",
    "            rel_list[key].append(0)\n",
    "        else:\n",
    "            rel_list[key].append(1)\n",
    "        master_list[key].append(txt)"
   ]
  },
  {
   "cell_type": "code",
   "execution_count": 9,
   "metadata": {},
   "outputs": [],
   "source": [
    "df = pd.DataFrame(columns=['queryid','iteration','docid','relevence'])"
   ]
  },
  {
   "cell_type": "code",
   "execution_count": 10,
   "metadata": {},
   "outputs": [],
   "source": [
    "# final_list = []\n",
    "the_list = []\n",
    "for i in range(4):\n",
    "    the_list.append([])      \n"
   ]
  },
  {
   "cell_type": "code",
   "execution_count": 11,
   "metadata": {},
   "outputs": [],
   "source": [
    "for k,v, in query_list.items():\n",
    "    docid = v\n",
    "    ind = 0\n",
    "    for doc_name in master_list[k]:\n",
    "        the_list[0].append(v)\n",
    "        the_list[1].append(1)\n",
    "        the_list[2].append(doc_name)\n",
    "        # print(rel_list[k][ind])\n",
    "        the_list[3].append(rel_list[k][ind])\n",
    "        ind+=1"
   ]
  },
  {
   "cell_type": "code",
   "execution_count": 12,
   "metadata": {},
   "outputs": [],
   "source": [
    "df['queryid'] = the_list[0]\n",
    "df['iteration'] = the_list[1]\n",
    "df['docid'] = the_list[2]\n",
    "df['relevence'] = the_list[3]"
   ]
  },
  {
   "cell_type": "code",
   "execution_count": 13,
   "metadata": {},
   "outputs": [],
   "source": [
    "df.to_csv('QRels_bm25.csv',index=False)"
   ]
  },
  {
   "cell_type": "code",
   "execution_count": 16,
   "metadata": {},
   "outputs": [],
   "source": [
    "# df.head(10)"
   ]
  },
  {
   "cell_type": "code",
   "execution_count": null,
   "metadata": {},
   "outputs": [],
   "source": []
  },
  {
   "cell_type": "code",
   "execution_count": null,
   "metadata": {},
   "outputs": [],
   "source": []
  },
  {
   "cell_type": "code",
   "execution_count": null,
   "metadata": {},
   "outputs": [],
   "source": []
  },
  {
   "cell_type": "code",
   "execution_count": null,
   "metadata": {},
   "outputs": [],
   "source": []
  },
  {
   "cell_type": "code",
   "execution_count": null,
   "metadata": {},
   "outputs": [],
   "source": []
  },
  {
   "cell_type": "code",
   "execution_count": null,
   "metadata": {},
   "outputs": [],
   "source": []
  },
  {
   "cell_type": "code",
   "execution_count": null,
   "metadata": {},
   "outputs": [],
   "source": []
  },
  {
   "cell_type": "code",
   "execution_count": null,
   "metadata": {},
   "outputs": [],
   "source": []
  }
 ],
 "metadata": {
  "interpreter": {
   "hash": "e16b9bd33e7041c0842013505aab8d96e59e427e4e0c80436ba1b7c1f34f93b5"
  },
  "kernelspec": {
   "display_name": "Python 3 (ipykernel)",
   "language": "python",
   "name": "python3"
  },
  "language_info": {
   "codemirror_mode": {
    "name": "ipython",
    "version": 3
   },
   "file_extension": ".py",
   "mimetype": "text/x-python",
   "name": "python",
   "nbconvert_exporter": "python",
   "pygments_lexer": "ipython3",
   "version": "3.8.10"
  }
 },
 "nbformat": 4,
 "nbformat_minor": 2
}
