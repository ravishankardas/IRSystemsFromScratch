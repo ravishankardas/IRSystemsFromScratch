{
 "cells": [
  {
   "cell_type": "code",
   "execution_count": 1,
   "id": "41bb78dc",
   "metadata": {},
   "outputs": [],
   "source": [
    "import pickle\n",
    "from nltk.tokenize import word_tokenize\n",
    "import re\n",
    "from nltk.corpus import stopwords\n",
    "import numpy as np\n",
    "from nltk.stem import PorterStemmer\n",
    "from nltk.corpus import stopwords\n"
   ]
  },
  {
   "cell_type": "code",
   "execution_count": 2,
   "id": "bdd0cb91",
   "metadata": {},
   "outputs": [],
   "source": [
    "obj=PorterStemmer()\n",
    "stop_words=set(stopwords.words('english'))"
   ]
  },
  {
   "cell_type": "code",
   "execution_count": 3,
   "id": "08ddc397",
   "metadata": {},
   "outputs": [],
   "source": [
    "file=open('postingLists',\"rb\")\n",
    "posting_lists=pickle.load(file)\n",
    "master_unique_words=set(posting_lists.keys())\n",
    "\n",
    "file=open('fileIndex','rb')\n",
    "file_index=pickle.load(file)"
   ]
  },
  {
   "cell_type": "code",
   "execution_count": 4,
   "id": "e6a6cb19",
   "metadata": {},
   "outputs": [],
   "source": [
    "def preprocess(querytext):\n",
    "    text=str(np.char.lower(querytext))\n",
    "    new_text = re.sub(r'[^\\w\\s]',' ',text)\n",
    "    token_list=word_tokenize(new_text)\n",
    "    word_list=token_list\n",
    "    for ind,word in enumerate(word_list):\n",
    "        if word.isdigit() and len(word)<4:\n",
    "            word_list[ind]=num2words(int(word))\n",
    "\n",
    "    word_list=' '.join(word_list)\n",
    "    word_list=re.sub(r'[^\\w\\s]',' ',word_list)\n",
    "    word_list=word_tokenize(word_list)\n",
    "    \n",
    "    stuff = []\n",
    "    for word in word_list:\n",
    "        if word==\"and\" or word==\"or\" or word not in stop_words :\n",
    "            stuff.append(word)\n",
    "    word_list=stuff\n",
    "    new_words=list(filter(lambda x:len(x)>1,word_list))\n",
    "    return new_words"
   ]
  },
  {
   "cell_type": "code",
   "execution_count": 5,
   "id": "ca53b107",
   "metadata": {},
   "outputs": [
    {
     "name": "stdout",
     "output_type": "stream",
     "text": [
      "Enter the querywhere is blockchain technology located\n",
      "['blockchain', 'technology', 'located']\n"
     ]
    }
   ],
   "source": [
    "query_text=input(\"Enter the query\")\n",
    "words = preprocess(query_text)\n",
    "print(words)"
   ]
  },
  {
   "cell_type": "code",
   "execution_count": 6,
   "id": "7c1d1de1",
   "metadata": {},
   "outputs": [],
   "source": [
    "new_str = \"\"\n",
    "for i in range(len(words)):\n",
    "    if(i==len(words)-1):\n",
    "        new_str+=words[i]\n",
    "    else:\n",
    "        new_str+=words[i]\n",
    "        new_str+=\" and \""
   ]
  },
  {
   "cell_type": "code",
   "execution_count": 7,
   "id": "9def828a",
   "metadata": {},
   "outputs": [],
   "source": [
    "query_words = list(new_str.split(\" \"))"
   ]
  },
  {
   "cell_type": "code",
   "execution_count": 8,
   "id": "5193dda8",
   "metadata": {},
   "outputs": [
    {
     "data": {
      "text/plain": [
       "['blockchain', 'and', 'technology', 'and', 'located']"
      ]
     },
     "execution_count": 8,
     "metadata": {},
     "output_type": "execute_result"
    }
   ],
   "source": [
    "query_words"
   ]
  },
  {
   "cell_type": "code",
   "execution_count": 9,
   "id": "6692a23f",
   "metadata": {},
   "outputs": [
    {
     "name": "stdout",
     "output_type": "stream",
     "text": [
      "['and', 'and']\n",
      "['blockchain', 'technology', 'located']\n"
     ]
    }
   ],
   "source": [
    "operators=[]\n",
    "non_operators=[]\n",
    "\n",
    "for word in query_words:\n",
    "    value = word.lower()\n",
    "    if value == \"and\" or value == \"or\":\n",
    "        operators.append(value)\n",
    "    else:\n",
    "        non_operators.append(value)\n",
    "    \n",
    "print(operators)\n",
    "print(non_operators)"
   ]
  },
  {
   "cell_type": "code",
   "execution_count": 10,
   "id": "d4947187",
   "metadata": {},
   "outputs": [
    {
     "data": {
      "text/plain": [
       "['blockchain', 'technolog', 'locat']"
      ]
     },
     "execution_count": 10,
     "metadata": {},
     "output_type": "execute_result"
    }
   ],
   "source": [
    "stemmed_non_operators=[obj.stem(word) for word in non_operators]\n",
    "stemmed_non_operators"
   ]
  },
  {
   "cell_type": "code",
   "execution_count": 11,
   "id": "12c918ca",
   "metadata": {},
   "outputs": [],
   "source": [
    "tot_doc_size=len(file_index)\n",
    "vector=[]\n",
    "word_matrix=[]\n",
    "\n",
    "for word in stemmed_non_operators:\n",
    "    vector=np.repeat(0,tot_doc_size)\n",
    "    if word in master_unique_words:\n",
    "        for w in posting_lists[word].keys():\n",
    "            vector[w]=1\n",
    "    word_matrix.append(vector)"
   ]
  },
  {
   "cell_type": "code",
   "execution_count": 13,
   "id": "22e20d1c",
   "metadata": {},
   "outputs": [],
   "source": [
    "first = word_matrix[0]\n",
    "second = word_matrix[1]\n",
    "output = []\n",
    "for i,j in zip(first,second):\n",
    "    output.append(i&j)\n",
    "ind = 2    \n",
    "for op in operators:\n",
    "    if ind == len(word_matrix):\n",
    "        break\n",
    "    curr_vector = word_matrix[ind]\n",
    "    ind+=1\n",
    "    res = []\n",
    "    for l,m in zip(output,curr_vector):\n",
    "        res.append(l&m)\n",
    "    output = res       "
   ]
  },
  {
   "cell_type": "code",
   "execution_count": 14,
   "id": "ad2e4788",
   "metadata": {},
   "outputs": [
    {
     "name": "stdout",
     "output_type": "stream",
     "text": [
      "C00008.txt\n",
      "C00017.txt\n",
      "C00021.txt\n",
      "C00032.txt\n",
      "C00067.txt\n",
      "C00115.txt\n",
      "C00170.txt\n",
      "C00203.txt\n",
      "C00204.txt\n",
      "C00229.txt\n",
      "C00268.txt\n",
      "C00541.txt\n",
      "C00544.txt\n",
      "C00799.txt\n",
      "D00348.txt\n",
      "D00943.txt\n",
      "M00042.txt\n",
      "S00004.txt\n",
      "S00034.txt\n",
      "S00071.txt\n",
      "S00777.txt\n"
     ]
    }
   ],
   "source": [
    "cnt=0\n",
    "final_vector = output\n",
    "for bit in final_vector:\n",
    "    if bit==1:\n",
    "        print(file_index[cnt][0])\n",
    "    cnt+=1"
   ]
  },
  {
   "cell_type": "code",
   "execution_count": null,
   "id": "4573e67f",
   "metadata": {},
   "outputs": [],
   "source": []
  }
 ],
 "metadata": {
  "kernelspec": {
   "display_name": "Python 3 (ipykernel)",
   "language": "python",
   "name": "python3"
  },
  "language_info": {
   "codemirror_mode": {
    "name": "ipython",
    "version": 3
   },
   "file_extension": ".py",
   "mimetype": "text/x-python",
   "name": "python",
   "nbconvert_exporter": "python",
   "pygments_lexer": "ipython3",
   "version": "3.8.10"
  }
 },
 "nbformat": 4,
 "nbformat_minor": 5
}
