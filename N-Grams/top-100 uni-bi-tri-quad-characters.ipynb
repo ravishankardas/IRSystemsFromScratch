{
 "cells": [
  {
   "cell_type": "code",
   "execution_count": 1,
   "metadata": {},
   "outputs": [],
   "source": [
    "#importing necessary libraries\n",
    "import pickle\n",
    "import os\n",
    "import copy\n",
    "import json"
   ]
  },
  {
   "cell_type": "code",
   "execution_count": 2,
   "metadata": {},
   "outputs": [],
   "source": [
    "hindiCharacters=['ऀ','ँ','ं','ः','ऄ','अ','आ','इ','ई','उ','ऊ','ऋ','ऌ','ऍ','ऎ','ए','ऐ','ऑ','ऒ','ओ','औ','क','ख','ग','घ','ङ','च','छ','ज','झ','ञ','ट','ठ','ड','ढ','ण','त','थ','द','ध','न','ऩ','प','फ','ब','भ','म','य','र','ऱ','ल','ळ','ऴ','व','श','ष','स','ह','क्ष','त्र','ज्ञ', 'श्र','ऺ','ऻ','़','ऽ','ा','ि','ी','ु','ू','ृ','ॄ','ॅ','ॆ','े','ै','ॉ','ॊ','ो','ौ','्','ॎ','ॏ','ॐ','ॕ','ॖ','ॗ','क़','ज़','ड़','ढ़','फ़','य़','ॠ','ॡ','ॢ''ॣ','।','॥','॰','ॱ','ॲ','ॳ','ॴ','ॵ','ॶ','ॷ','ॸ','ॹ','ॺ']"
   ]
  },
  {
   "cell_type": "code",
   "execution_count": 3,
   "metadata": {},
   "outputs": [],
   "source": [
    "hindiCharMapping={\n",
    " 'क': 'क्',\n",
    " 'ख': 'ख्',\n",
    " 'ग': 'ग्',\n",
    " 'घ': 'घ्',\n",
    " 'ङ': 'ङ्',\n",
    " 'च': 'च्',\n",
    " 'छ': 'छ्',\n",
    " 'ज': 'ज्',\n",
    " 'झ': 'झ्',\n",
    " 'ञ': 'ञ्', \n",
    " 'ट': 'ट्', \n",
    " 'ठ': 'ठ्',\n",
    " 'ड': 'ड्',\n",
    " 'ढ': 'ढ्',\n",
    " 'ण': 'ण्',\n",
    " 'त': 'त्', \n",
    " 'थ': 'थ्',\n",
    " 'द': 'द्',\n",
    " 'ध': 'ध्',\n",
    " 'न': 'न्',\n",
    " 'ऩ': 'ऩ्',\n",
    " 'प': 'प्',\n",
    " 'फ': 'फ्',\n",
    " 'ब': 'ब्',\n",
    " 'भ': 'भ्', \n",
    " 'म': 'म्',\n",
    " 'य': 'य्',\n",
    " 'र': 'र्',\n",
    " 'ऱ': 'ऱ्',\n",
    " 'ल': 'ल्',\n",
    " 'ळ': 'ळ्',\n",
    " 'ऴ': 'ऴ्',\n",
    " 'व': 'व्',\n",
    " 'श': 'श्',\n",
    " 'ष': 'ष्',\n",
    " 'स': 'स्',\n",
    " 'ह': 'ह्',\n",
    " 'ज्ञ': 'ज्'+'ञ्',\n",
    " 'क्ष': 'क्'+'ष्',\n",
    " 'श्र': 'श्'+'र्',\n",
    " 'त्र': 'त्'+'र्'\n",
    "}"
   ]
  },
  {
   "cell_type": "code",
   "execution_count": 4,
   "metadata": {},
   "outputs": [],
   "source": [
    "hindiVowels=['अ','आ','इ','ई','उ','ऊ','ऋ','ए','ऐ','ओ','औ','अं','अ:']\n",
    "hindiConsonant=['क', 'ख', 'ग', 'घ', 'ङ', 'च', 'छ', 'ज', 'झ', 'ञ', 'ट', 'ठ', 'ड', 'ढ', 'ण', 'त', 'थ', 'द', 'ध', 'न', 'ऩ', 'प', 'फ', 'ब', 'भ', 'म', 'य', 'र', 'ऱ', 'ल', 'ळ', 'ऴ', 'व', 'श', 'ष', 'स', 'ह',]"
   ]
  },
  {
   "cell_type": "code",
   "execution_count": 5,
   "metadata": {},
   "outputs": [],
   "source": [
    "hindiMatra = {\n",
    "'ा': 'आ',\n",
    " 'ि': 'इ',\n",
    " 'ी': 'ई',\n",
    " 'ु': 'उ ',\n",
    " 'ू': 'ऊ',\n",
    " 'ृ': 'ऋ',     \n",
    " 'े': 'ए',\n",
    " 'ै': 'ऐ',\n",
    " 'ो': 'ओ',\n",
    " 'ौ': 'औ',\n",
    " 'ं': 'अं',\n",
    " ':': 'अ:'}"
   ]
  },
  {
   "cell_type": "code",
   "execution_count": 6,
   "metadata": {},
   "outputs": [],
   "source": [
    "specialCharacters=[':',';',',','.','\\'','\\\\','/','-','‘','’','(',')','?','[',']','*','+','“','”','!','…','+','{','}','=']"
   ]
  },
  {
   "cell_type": "code",
   "execution_count": 7,
   "metadata": {},
   "outputs": [],
   "source": [
    "#this function will remove the digits\n",
    "def removeDigits(word):\n",
    "    ok = False\n",
    "    if word.isnumeric():\n",
    "        return \"\"\n",
    "    else:\n",
    "        return word"
   ]
  },
  {
   "cell_type": "code",
   "execution_count": 8,
   "metadata": {},
   "outputs": [],
   "source": [
    "#this function will clean the text bt removing all the un neccessary chars \n",
    "def cleanText(word):\n",
    "    res = \"\"\n",
    "    word = word.replace('\\n','').replace('\\u200d','').replace('\\xa0','').replace('\\t','').replace('\"','')\n",
    "    for i in word:\n",
    "            if i not in specialCharacters:\n",
    "                if i in hindiCharacters or i in hindiCharMapping.keys() or i in hindiVowels or i in hindiConsonant:\n",
    "                    res+=i\n",
    "    return res"
   ]
  },
  {
   "cell_type": "code",
   "execution_count": 9,
   "metadata": {},
   "outputs": [],
   "source": [
    "halant = '्'"
   ]
  },
  {
   "cell_type": "code",
   "execution_count": 10,
   "metadata": {},
   "outputs": [],
   "source": [
    "#this function will break the given word in smaller units\n",
    "def process(word,flag):\n",
    "    word = cleanText(word)\n",
    "    res = []\n",
    "    for i in word:\n",
    "        if i in hindiCharMapping.keys():\n",
    "            res.append(hindiCharMapping[i])\n",
    "            if flag:\n",
    "                res.append('अ')\n",
    "        elif i in hindiMatra.keys():\n",
    "            res.append(i)\n",
    "        else:\n",
    "            res.append(i)\n",
    "    return res"
   ]
  },
  {
   "cell_type": "code",
   "execution_count": 11,
   "metadata": {},
   "outputs": [],
   "source": [
    "#this function will give the unigrams for the given word\n",
    "def getUnigram(a,flag):\n",
    "    unigram  = []\n",
    "    word = process(a,flag)\n",
    "    for i in range(len(word)):\n",
    "        if word[i] in hindiVowels:\n",
    "            if i >=1  and halant in word[i-1]:\n",
    "                unigram.append(word[i])\n",
    "            else:\n",
    "                unigram.append(word[i]+'+')\n",
    "        elif halant in word[i]:\n",
    "            unigram.append(word[i])\n",
    "        else:\n",
    "            if word[i] in hindiMatra.keys():\n",
    "                unigram.append(hindiMatra[word[i]])\n",
    "            else:\n",
    "                unigram.append(word[i])\n",
    "            \n",
    "    return unigram\n",
    "            "
   ]
  },
  {
   "cell_type": "code",
   "execution_count": 12,
   "metadata": {},
   "outputs": [],
   "source": [
    "#this function will give the bigrams for the given word\n",
    "def getBigram(arr,flag):\n",
    "    a = process(arr,flag)\n",
    "    bi = []\n",
    "    res = []\n",
    "    if len(a)>=2:\n",
    "        for i in range(len(a)-1):\n",
    "            tmp = a[i]+a[i+1]\n",
    "            if halant in a[i]:\n",
    "                tmp = a[i][0]+a[i+1]\n",
    "            elif halant in a[i+1]:\n",
    "                if a[i] in hindiMatra.keys():\n",
    "                    tmp = hindiMatra[a[i]] + a[i+1][0]\n",
    "                else:\n",
    "                    tmp = a[i]+a[i+1][0]\n",
    "            elif a[i+1] in hindiMatra.keys():\n",
    "                tmp = hindiMatra[a[i+1]]\n",
    "            bi.append(tmp)\n",
    "        \n",
    "        \n",
    "        for i in bi:\n",
    "            if i[-1] == 'अ' or halant in i:\n",
    "                res.append(i[0])\n",
    "            else:\n",
    "                res.append(i)\n",
    "    return res"
   ]
  },
  {
   "cell_type": "code",
   "execution_count": 13,
   "metadata": {},
   "outputs": [],
   "source": [
    "#this function will give the trigrams for the given word\n",
    "def getTrigram(arr,flag):\n",
    "    a = process(arr,flag)\n",
    "    tri = []\n",
    "    res = []\n",
    "    if len(a)>=3:\n",
    "        for i in range(len(a)-2):\n",
    "            tmp = a[i]+a[i+1]+a[i+2]\n",
    "            if a[i]==halant:\n",
    "                if halant in a[i+1]:\n",
    "                    tmp = a[i+1][0]\n",
    "                else:\n",
    "                    tmp = a[i+1]+a[i+2]\n",
    "            elif halant in a[i]:\n",
    "                tmp = a[i][0]+a[i+2]\n",
    "            elif halant in a[i+1]:\n",
    "                tmp = a[i]+a[i+1][0]\n",
    "            tri.append(tmp)\n",
    "    return tri"
   ]
  },
  {
   "cell_type": "code",
   "execution_count": 14,
   "metadata": {},
   "outputs": [],
   "source": [
    "#this function will give the quadgrams for the given word\n",
    "def getQuadgram(arr,flag):\n",
    "    a = process(arr,flag)\n",
    "    # print(a)\n",
    "    tri = []\n",
    "    res = []\n",
    "    if len(a)>=4:\n",
    "        for i in range(len(a)-3):\n",
    "            tmp = a[i]+a[i+1]+a[i+2]+a[i+3]\n",
    "            if halant in a[i]:\n",
    "                if a[i+1] == 'अ':\n",
    "                    tmp = a[i][0]+a[i+2]+a[i+3]\n",
    "                else:\n",
    "                    tmp = a[i][0]+a[i+1]+a[i+2]+a[i+3]\n",
    "            elif halant in a[i+1]:\n",
    "                if a[i+2] == 'अ':\n",
    "                    tmp = a[i]+a[i+1][0]+a[i+3]\n",
    "                else:\n",
    "                    tmp = a[i]+a[i+1][0]+a[i+2]+a[i+3]\n",
    "            elif halant in a[i+2]:\n",
    "                if a[i+3]=='अ':\n",
    "                    tmp = a[i]+a[i+1]+a[i+2][0]\n",
    "                else:\n",
    "                    tmp = a[i]+a[i+1]+a[i+2][0]+a[i+3]\n",
    "\n",
    "            tri.append(tmp)\n",
    "    return tri"
   ]
  },
  {
   "cell_type": "code",
   "execution_count": 15,
   "metadata": {},
   "outputs": [],
   "source": [
    "#this dict will store the total unique words from the whole corpus\n",
    "totDict = {}"
   ]
  },
  {
   "cell_type": "code",
   "execution_count": 16,
   "metadata": {},
   "outputs": [],
   "source": [
    "with open('final_unigram.pickle', 'rb') as handle:\n",
    "    totDict = pickle.load(handle)"
   ]
  },
  {
   "cell_type": "code",
   "execution_count": 17,
   "metadata": {},
   "outputs": [],
   "source": [
    "lim = int(len(totDict)/100)"
   ]
  },
  {
   "cell_type": "code",
   "execution_count": 18,
   "metadata": {},
   "outputs": [],
   "source": [
    "# lim"
   ]
  },
  {
   "cell_type": "code",
   "execution_count": 19,
   "metadata": {},
   "outputs": [],
   "source": [
    "#this function will split the given dictionary into lists of size atmost lim\n",
    "def split_dict(input_dict, max_limit=lim):\n",
    "    final = []\n",
    "    curr_dict ={}\n",
    "    for k, v in input_dict.items():\n",
    "        if len(curr_dict.keys()) <= max_limit:\n",
    "            curr_dict.update({k: v})\n",
    "        else:\n",
    "            final.append(copy.deepcopy(curr_dict))\n",
    "            curr_dict = {k: v}\n",
    "    final.append(curr_dict)\n",
    "    return final"
   ]
  },
  {
   "cell_type": "code",
   "execution_count": 20,
   "metadata": {},
   "outputs": [],
   "source": [
    "totDictList = split_dict(totDict)"
   ]
  },
  {
   "cell_type": "code",
   "execution_count": 21,
   "metadata": {},
   "outputs": [],
   "source": [
    "unigram = {}\n",
    "cnt=0"
   ]
  },
  {
   "cell_type": "code",
   "execution_count": 22,
   "metadata": {},
   "outputs": [],
   "source": [
    "#here we will get the unigrams and update the above unigram dictionary\n",
    "for curr_dict in totDictList:\n",
    "    # print(cnt)\n",
    "    cnt+=1\n",
    "  \n",
    "    for k,v in curr_dict.items():\n",
    "        \n",
    "        lst = getUnigram(k,1)\n",
    "        for i in lst:\n",
    "            if i in unigram.keys():\n",
    "                unigram[i]+=v\n",
    "            else:\n",
    "                unigram[i]=v\n",
    "unigram = {k: v for k, v in sorted(unigram.items(), key=lambda item: item[1],reverse=True)}\n",
    "    "
   ]
  },
  {
   "cell_type": "code",
   "execution_count": 23,
   "metadata": {},
   "outputs": [
    {
     "data": {
      "text/plain": [
       "105"
      ]
     },
     "execution_count": 23,
     "metadata": {},
     "output_type": "execute_result"
    }
   ],
   "source": [
    "len(unigram)"
   ]
  },
  {
   "cell_type": "code",
   "execution_count": 24,
   "metadata": {},
   "outputs": [],
   "source": [
    "#getting the top 100 unigrams\n",
    "unigram = dict(list(unigram.items())[0:100])\n",
    "with open('3a_unigram.pickle', 'wb') as handle:\n",
    "    pickle.dump(unigram, handle, protocol=pickle.HIGHEST_PROTOCOL)"
   ]
  },
  {
   "cell_type": "code",
   "execution_count": 25,
   "metadata": {},
   "outputs": [],
   "source": [
    "with open(\"top100_uni_char.txt\", 'w',encoding='utf-8') as f: \n",
    "    for key, value in unigram.items(): \n",
    "        f.write('%s\\n' % (key))"
   ]
  },
  {
   "cell_type": "code",
   "execution_count": 26,
   "metadata": {},
   "outputs": [],
   "source": [
    "bigram = {}\n",
    "cnt=0"
   ]
  },
  {
   "cell_type": "code",
   "execution_count": 27,
   "metadata": {},
   "outputs": [],
   "source": [
    "#here we will get the bigrams and update the above bigram dictionary\n",
    "for curr_dict in totDictList:\n",
    "    # print(cnt)\n",
    "    cnt+=1\n",
    "    for k,v in curr_dict.items():\n",
    "        lst = getBigram(k,1)\n",
    "        for i in lst:\n",
    "            if i in bigram.keys():\n",
    "                bigram[i]+=v\n",
    "            else:\n",
    "                bigram[i]=v\n",
    "bigram = {k: v for k, v in sorted(bigram.items(), key=lambda item: item[1],reverse=True)}"
   ]
  },
  {
   "cell_type": "code",
   "execution_count": 28,
   "metadata": {},
   "outputs": [],
   "source": [
    "#getting the top 100 bigrams\n",
    "bigram = dict(list(bigram.items())[0:100])\n",
    "with open('3a_bigram.pickle', 'wb') as handle:\n",
    "    pickle.dump(bigram, handle, protocol=pickle.HIGHEST_PROTOCOL)"
   ]
  },
  {
   "cell_type": "code",
   "execution_count": 29,
   "metadata": {},
   "outputs": [],
   "source": [
    "with open(\"top100_bi_char.txt\", 'w',encoding='utf-8') as f: \n",
    "    for key, value in bigram.items(): \n",
    "        f.write('%s\\n' % (key))"
   ]
  },
  {
   "cell_type": "code",
   "execution_count": 30,
   "metadata": {},
   "outputs": [],
   "source": [
    "trigram = {}\n",
    "cnt=0\n"
   ]
  },
  {
   "cell_type": "code",
   "execution_count": 31,
   "metadata": {},
   "outputs": [],
   "source": [
    "#here we will get the trigrams and update the above trigram dictionary\n",
    "for curr_dict in totDictList:\n",
    "    # print(cnt)\n",
    "    cnt+=1\n",
    "    for k,v in curr_dict.items():\n",
    "        lst = getTrigram(k,1)\n",
    "        for i in lst:\n",
    "            if i in trigram.keys():\n",
    "                trigram[i]+=v\n",
    "            else:\n",
    "                trigram[i]=v\n",
    "trigram = {k: v for k, v in sorted(trigram.items(), key=lambda item: item[1],reverse=True)}"
   ]
  },
  {
   "cell_type": "code",
   "execution_count": 32,
   "metadata": {},
   "outputs": [],
   "source": [
    "#getting the top 100 trigrams\n",
    "trigram = dict(list(trigram.items())[0:100])\n",
    "with open('3a_trigram.pickle', 'wb') as handle:\n",
    "    pickle.dump(trigram, handle, protocol=pickle.HIGHEST_PROTOCOL)"
   ]
  },
  {
   "cell_type": "code",
   "execution_count": 33,
   "metadata": {},
   "outputs": [],
   "source": [
    "with open(\"top100_tri_char.txt\", 'w',encoding='utf-8') as f: \n",
    "    for key, value in trigram.items(): \n",
    "        f.write('%s\\n' % (key))"
   ]
  },
  {
   "cell_type": "code",
   "execution_count": 34,
   "metadata": {},
   "outputs": [],
   "source": [
    "quadgram = {}\n",
    "cnt=0"
   ]
  },
  {
   "cell_type": "code",
   "execution_count": 35,
   "metadata": {},
   "outputs": [],
   "source": [
    "#here we will get the quadgrams and update the above quadgrams dictionary\n",
    "for curr_dict in totDictList:\n",
    "    # print(cnt)\n",
    "    cnt+=1\n",
    "    for k,v in curr_dict.items():\n",
    "        lst = getQuadgram(k,1)\n",
    "        for i in lst:\n",
    "            if i in quadgram.keys():\n",
    "                quadgram[i]+=v\n",
    "            else:\n",
    "                quadgram[i]=v\n",
    "quadgram = {k: v for k, v in sorted(quadgram.items(), key=lambda item: item[1],reverse=True)}"
   ]
  },
  {
   "cell_type": "code",
   "execution_count": 36,
   "metadata": {},
   "outputs": [],
   "source": [
    "#geting the top 100 quadgrams\n",
    "quadgram = dict(list(quadgram.items())[0:100])\n",
    "with open('3a_quadgram.pickle', 'wb') as handle:\n",
    "    pickle.dump(quadgram, handle, protocol=pickle.HIGHEST_PROTOCOL)"
   ]
  },
  {
   "cell_type": "code",
   "execution_count": 37,
   "metadata": {},
   "outputs": [],
   "source": [
    "with open(\"top100_quad_char.txt\", 'w',encoding='utf-8') as f: \n",
    "    for key, value in quadgram.items(): \n",
    "        f.write('%s\\n' % (key))"
   ]
  }
 ],
 "metadata": {
  "interpreter": {
   "hash": "2be5faf79681da6f2a61fdfdd5405d65d042280f7fba6178067603e3a2925119"
  },
  "kernelspec": {
   "display_name": "Python 3 (ipykernel)",
   "language": "python",
   "name": "python3"
  },
  "language_info": {
   "codemirror_mode": {
    "name": "ipython",
    "version": 3
   },
   "file_extension": ".py",
   "mimetype": "text/x-python",
   "name": "python",
   "nbconvert_exporter": "python",
   "pygments_lexer": "ipython3",
   "version": "3.9.7"
  }
 },
 "nbformat": 4,
 "nbformat_minor": 2
}
