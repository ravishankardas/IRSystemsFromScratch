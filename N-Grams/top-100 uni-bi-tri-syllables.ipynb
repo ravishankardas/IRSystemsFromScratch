{
 "cells": [
  {
   "cell_type": "code",
   "execution_count": 1,
   "metadata": {},
   "outputs": [],
   "source": [
    "import os\n",
    "import re\n",
    "import pickle\n",
    "import copy"
   ]
  },
  {
   "cell_type": "code",
   "execution_count": 2,
   "metadata": {},
   "outputs": [],
   "source": [
    "with open('final_unigram.pickle', 'rb') as handle:\n",
    "    totDict = pickle.load(handle)"
   ]
  },
  {
   "cell_type": "code",
   "execution_count": 3,
   "metadata": {},
   "outputs": [],
   "source": [
    "# totDict"
   ]
  },
  {
   "cell_type": "code",
   "execution_count": 4,
   "metadata": {},
   "outputs": [],
   "source": [
    "digits = ['0','1','2','3','4','5','6','7','8','9','०','१','२','३','४','५','६','७','८','९']"
   ]
  },
  {
   "cell_type": "code",
   "execution_count": 5,
   "metadata": {},
   "outputs": [],
   "source": [
    "specialCharacters=['|','।',':',';',',','.','\\'','\\\\','/','-','‘','’','(',')','?','[',']','*','+','“','”','!','…','+','{','}','=']"
   ]
  },
  {
   "cell_type": "code",
   "execution_count": 6,
   "metadata": {},
   "outputs": [],
   "source": [
    "hindiAlphabets = ['क', 'ख', 'ग', 'घ', 'ङ', 'च', 'छ', 'ज', 'झ', 'ञ', 'ट', 'ठ', 'ड', 'ढ', 'ण', 'त', 'थ', 'द', 'ध', 'न', 'ऩ', 'प', 'फ', 'ब', 'भ', 'म', 'य', 'र', 'ऱ', 'ल', 'ळ', 'ऴ', 'व', 'श', 'ष', 'स', 'ह',]"
   ]
  },
  {
   "cell_type": "code",
   "execution_count": 7,
   "metadata": {},
   "outputs": [],
   "source": [
    "hindiCharacters=['ऀ', 'ँ', 'ं', 'ः', 'ऄ', 'अ', 'आ', 'इ', 'ई', 'उ', 'ऊ', 'ऋ', 'ऌ', 'ऍ', 'ऎ', 'ए', 'ऐ', 'ऑ', 'ऒ', 'ओ', 'औ', 'क','ख', 'ग', 'घ', 'ङ', 'च', 'छ', 'ज', 'झ', 'ञ', 'ट', 'ठ', 'ड', 'ढ', 'ण', 'त', 'थ', 'द', 'ध', 'न', 'ऩ', 'प', 'फ', 'ब', 'भ',\n",
    " 'म', 'य', 'र', 'ऱ', 'ल', 'ळ', 'ऴ', 'व', 'श', 'ष', 'स', 'ह', 'क्ष',  'त्र',  'ज्ञ',  'श्र' ,'ऺ', 'ऻ', '़', 'ऽ', 'ा', 'ि', 'ी', 'ु', 'ू', 'ृ', 'ॄ', 'ॅ', 'ॆ', 'े', 'ै', 'ॉ', 'ॊ', 'ो', 'ौ', '्', 'ॎ', 'ॏ', 'ॐ', 'ॕ', 'ॖ', 'ॗ', 'क़', 'ख़', 'ग़', 'ज़', 'ड़', 'ढ़', 'फ़', 'य़', 'ॠ',\n",
    " 'ॡ', 'ॢ', 'ॣ', '।', '॥', '०', '१', '२', '३', '४', '५', '६', '७', '८', '९', '॰', 'ॱ', 'ॲ', 'ॳ', 'ॴ', 'ॵ', 'ॶ', 'ॷ', 'ॸ', 'ॹ', 'ॺ', 'ॻ', 'ॼ', 'ॾ', 'ॿ']\n"
   ]
  },
  {
   "cell_type": "code",
   "execution_count": 8,
   "metadata": {},
   "outputs": [],
   "source": [
    "hindiCharMapping={\n",
    " 'क': 'क्',\n",
    " 'ख': 'ख्',\n",
    " 'ग': 'ग्',\n",
    " 'घ': 'घ्',\n",
    " 'ङ': 'ङ्',\n",
    " 'च': 'च्',\n",
    " 'छ': 'छ्',\n",
    " 'ज': 'ज्',\n",
    " 'झ': 'झ्',\n",
    " 'ञ': 'ञ्', \n",
    " 'ट': 'ट्', \n",
    " 'ठ': 'ठ्',\n",
    " 'ड': 'ड्',\n",
    " 'ढ': 'ढ्',\n",
    " 'ण': 'ण्',\n",
    " 'त': 'त्', \n",
    " 'थ': 'थ्',\n",
    " 'द': 'द्',\n",
    " 'ध': 'ध्',\n",
    " 'न': 'न्',\n",
    " 'ऩ': 'ऩ्',\n",
    " 'प': 'प्',\n",
    " 'फ': 'फ्',\n",
    " 'ब': 'ब्',\n",
    " 'भ': 'भ्', \n",
    " 'म': 'म्',\n",
    " 'य': 'य्',\n",
    " 'र': 'र्',\n",
    " 'ऱ': 'ऱ्',\n",
    " 'ल': 'ल्',\n",
    " 'ळ': 'ळ्',\n",
    " 'ऴ': 'ऴ्',\n",
    " 'व': 'व्',\n",
    " 'श': 'श्',\n",
    " 'ष': 'ष्',\n",
    " 'स': 'स्',\n",
    " 'ह': 'ह्',\n",
    " 'ज्ञ': 'ज'+'्'+'ञ',\n",
    " 'क्ष': 'क्'+'ष्',\n",
    " 'श्र': 'श्'+'र्',\n",
    " 'त्र': 'त्'+'र्'\n",
    "}"
   ]
  },
  {
   "cell_type": "code",
   "execution_count": 9,
   "metadata": {},
   "outputs": [],
   "source": [
    "four = ['ज्ञ','क्ष','श्र','त्र']"
   ]
  },
  {
   "cell_type": "code",
   "execution_count": 10,
   "metadata": {},
   "outputs": [],
   "source": [
    "hindiMatra = {\n",
    "'ा': 'आ',\n",
    " 'ि': 'इ',\n",
    " 'ी': 'ई',\n",
    " 'ु': 'उ ',\n",
    " 'ू': 'ऊ',\n",
    " 'ृ': 'ऋ',    \n",
    " 'े': 'ए',    \n",
    " 'ै': 'ऐ',\n",
    " 'ो': 'ओ',\n",
    " 'ौ': 'औ',\n",
    " 'ं': 'अं',\n",
    " ':': 'अ:'}"
   ]
  },
  {
   "cell_type": "code",
   "execution_count": 11,
   "metadata": {},
   "outputs": [],
   "source": [
    "halant = '्'\n",
    "gya = 'ज'+'्'+'ञ'\n",
    "for k,v in hindiMatra.items():\n",
    "    four.append(gya+k)"
   ]
  },
  {
   "cell_type": "code",
   "execution_count": 12,
   "metadata": {},
   "outputs": [],
   "source": [
    "englishAlphabets = []"
   ]
  },
  {
   "cell_type": "code",
   "execution_count": 13,
   "metadata": {},
   "outputs": [],
   "source": [
    "for i in range(26):\n",
    "    txt1 = ord('a') + i\n",
    "    txt2 = ord('A') + i\n",
    "    englishAlphabets.append(chr(txt1))\n",
    "    englishAlphabets.append(chr(txt2))"
   ]
  },
  {
   "cell_type": "code",
   "execution_count": 14,
   "metadata": {},
   "outputs": [],
   "source": [
    "hindiVowels=['अ','आ','इ','ई','उ','ऊ','ऋ','ए','ऐ','ओ','औ','अं','अ:']\n",
    "hindiConsonant=['क', 'ख', 'ग', 'घ', 'ङ', 'च', 'छ', 'ज', 'झ', 'ञ', 'ट', 'ठ', 'ड', 'ढ', 'ण', 'त', 'थ', 'द', 'ध', 'न', 'ऩ', 'प', 'फ', 'ब', 'भ', 'म', 'य', 'र', 'ऱ', 'ल', 'ळ', 'ऴ', 'व', 'श', 'ष', 'स', 'ह',]"
   ]
  },
  {
   "cell_type": "code",
   "execution_count": 15,
   "metadata": {},
   "outputs": [],
   "source": [
    "def cleanText(word):\n",
    "    res = \"\"\n",
    "    word = word.replace('\\n','').replace('\\u200d','').replace('\\xa0','').replace('\\t','').replace('\"','')\n",
    "    for i in word:\n",
    "            if i not in specialCharacters:\n",
    "                if i in hindiCharacters or i in hindiCharMapping.keys() or i in hindiVowels or i in hindiConsonant:\n",
    "                    res+=i\n",
    "    return res"
   ]
  },
  {
   "cell_type": "code",
   "execution_count": 16,
   "metadata": {},
   "outputs": [],
   "source": [
    "def process(word,flag):\n",
    "    word = cleanText(word)\n",
    "    res = []\n",
    "    for i in word:\n",
    "        if i in hindiCharMapping.keys():\n",
    "            res.append(hindiCharMapping[i])\n",
    "            if flag:\n",
    "                res.append('अ')\n",
    "        elif i in hindiMatra.keys():\n",
    "            res.append(i)\n",
    "        else:\n",
    "            res.append(i)\n",
    "    return res"
   ]
  },
  {
   "cell_type": "code",
   "execution_count": 17,
   "metadata": {},
   "outputs": [],
   "source": [
    "def getSyllables(word,flag):\n",
    "    word = process(word,flag)\n",
    "    # print(word)\n",
    "    # test = ''.join(word)\n",
    "    idx = []\n",
    "    ans = []\n",
    "    isHere = False\n",
    "    cnt=0\n",
    "            \n",
    "    if isHere:\n",
    "        pass\n",
    "        \n",
    "    else:\n",
    "        for i in range(len(word)):\n",
    "            if word[i] in hindiVowels:\n",
    "                tmp = i+1\n",
    "                if tmp<len(word) and word[tmp] in hindiMatra.keys():\n",
    "                    idx.append(tmp)\n",
    "                else:\n",
    "                    idx.append(i)\n",
    "\n",
    "        first=0\n",
    "        for i in idx:\n",
    "            res = ''\n",
    "            for j in range(first,i+1):\n",
    "                res+=word[j]\n",
    "            if res[-1] in hindiMatra.keys() and halant in res[0:-1]:\n",
    "                tmp = res[0][0]+res[-1]\n",
    "                if tmp in hindiMatra.keys():\n",
    "                    ans.append(hindiMatra[tmp])\n",
    "                else:\n",
    "                    ans.append(tmp)\n",
    "            elif res[-1]=='अ' and halant in res[0:-1]:\n",
    "                tmp = res[0][0]\n",
    "                if tmp in hindiMatra.keys():\n",
    "                    ans.append(hindiMatra[tmp])\n",
    "                else:\n",
    "                    ans.append(tmp)\n",
    "            else:\n",
    "                if res in hindiMatra.keys():\n",
    "                    ans.append(hindiMatra[res])\n",
    "                else:\n",
    "                    ans.append(res)\n",
    "            first = i+1\n",
    "\n",
    "\n",
    "        while first < len(word):\n",
    "            ans.append(word[first])\n",
    "            first+=1\n",
    "    return ans"
   ]
  },
  {
   "cell_type": "code",
   "execution_count": 18,
   "metadata": {},
   "outputs": [],
   "source": [
    "def getUnigram(bigList):\n",
    "    for small in bigList:\n",
    "        final,v = small[0],small[1]\n",
    "        for i in final:\n",
    "            if i in unigram.keys():\n",
    "                unigram[i]+=v\n",
    "            else:\n",
    "                unigram[i]=v"
   ]
  },
  {
   "cell_type": "code",
   "execution_count": 19,
   "metadata": {},
   "outputs": [],
   "source": [
    "def getBigram(bigList):\n",
    "    for small in bigList:\n",
    "        final,v = small[0],small[1]\n",
    "        if len(final)>=2:\n",
    "            for i in range(len(final)-1):\n",
    "                tmp = final[i]+final[i+1]\n",
    "                if tmp in bigram.keys():\n",
    "                    bigram[tmp]+=v\n",
    "                else:\n",
    "                    bigram[tmp]=v"
   ]
  },
  {
   "cell_type": "code",
   "execution_count": 20,
   "metadata": {},
   "outputs": [],
   "source": [
    "def getTrigram(bigList):\n",
    "    for small in bigList:\n",
    "        final,v = small[0],small[1]\n",
    "        if len(final)>=3:\n",
    "            for i in range(len(final)-2):\n",
    "                tmp = final[i]+final[i+1]+final[i+2]\n",
    "                if tmp in trigram.keys():\n",
    "                    trigram[tmp]+=v\n",
    "                else:\n",
    "                    trigram[tmp]=v"
   ]
  },
  {
   "cell_type": "code",
   "execution_count": 21,
   "metadata": {},
   "outputs": [],
   "source": [
    "lim = int(len(totDict)/100)"
   ]
  },
  {
   "cell_type": "code",
   "execution_count": 22,
   "metadata": {},
   "outputs": [],
   "source": [
    "def split_dict(input_dict, max_limit=lim):\n",
    "    final = []\n",
    "    curr_dict ={}\n",
    "    for k, v in input_dict.items():\n",
    "        if len(curr_dict.keys()) <= max_limit:\n",
    "            curr_dict.update({k: v})\n",
    "        else:\n",
    "            final.append(copy.deepcopy(curr_dict))\n",
    "            curr_dict = {k: v}\n",
    "    final.append(curr_dict)\n",
    "    return final"
   ]
  },
  {
   "cell_type": "code",
   "execution_count": 23,
   "metadata": {},
   "outputs": [],
   "source": [
    "totDictList = split_dict(totDict)"
   ]
  },
  {
   "cell_type": "code",
   "execution_count": 24,
   "metadata": {},
   "outputs": [],
   "source": [
    "syllables = []\n",
    "cnt=0"
   ]
  },
  {
   "cell_type": "code",
   "execution_count": 25,
   "metadata": {},
   "outputs": [],
   "source": [
    "master_list = []\n",
    "cnt=0"
   ]
  },
  {
   "cell_type": "code",
   "execution_count": 26,
   "metadata": {},
   "outputs": [
    {
     "name": "stdout",
     "output_type": "stream",
     "text": [
      "0\n",
      "1\n",
      "2\n",
      "3\n",
      "4\n",
      "5\n",
      "6\n",
      "7\n",
      "8\n",
      "9\n",
      "10\n",
      "11\n",
      "12\n",
      "13\n",
      "14\n",
      "15\n",
      "16\n",
      "17\n",
      "18\n",
      "19\n",
      "20\n",
      "21\n",
      "22\n",
      "23\n",
      "24\n",
      "25\n",
      "26\n",
      "27\n",
      "28\n",
      "29\n",
      "30\n",
      "31\n",
      "32\n",
      "33\n",
      "34\n",
      "35\n",
      "36\n",
      "37\n",
      "38\n",
      "39\n",
      "40\n",
      "41\n",
      "42\n",
      "43\n",
      "44\n",
      "45\n",
      "46\n",
      "47\n",
      "48\n",
      "49\n",
      "50\n",
      "51\n",
      "52\n",
      "53\n",
      "54\n",
      "55\n",
      "56\n",
      "57\n",
      "58\n",
      "59\n",
      "60\n",
      "61\n",
      "62\n",
      "63\n",
      "64\n",
      "65\n",
      "66\n",
      "67\n",
      "68\n",
      "69\n",
      "70\n",
      "71\n",
      "72\n",
      "73\n",
      "74\n",
      "75\n",
      "76\n",
      "77\n",
      "78\n",
      "79\n",
      "80\n",
      "81\n",
      "82\n",
      "83\n",
      "84\n",
      "85\n",
      "86\n",
      "87\n",
      "88\n",
      "89\n",
      "90\n",
      "91\n",
      "92\n",
      "93\n",
      "94\n",
      "95\n",
      "96\n",
      "97\n",
      "98\n",
      "99\n"
     ]
    }
   ],
   "source": [
    "for i in range(len(totDictList)):\n",
    "    print(cnt)\n",
    "    cnt+=1\n",
    "    curr_dict = totDictList[i]\n",
    "    final_list = []\n",
    "    for k,v in curr_dict.items():\n",
    "        tmp = getSyllables(k,1)\n",
    "        master_list.append([tmp,v])"
   ]
  },
  {
   "cell_type": "code",
   "execution_count": 27,
   "metadata": {},
   "outputs": [],
   "source": [
    "unigram = {}\n",
    "getUnigram(master_list)\n",
    "unigram = {k: v for k, v in sorted(unigram.items(), key=lambda item: item[1],reverse=True)}\n",
    "unigram = dict(list(unigram.items())[0:100])\n",
    "with open('3c_unigram.pickle', 'wb') as handle:\n",
    "    pickle.dump(unigram, handle, protocol=pickle.HIGHEST_PROTOCOL)\n",
    "with open(\"top100_uni_syll.txt\", 'w',encoding='utf-8') as f: \n",
    "    for key, value in unigram.items(): \n",
    "        f.write('%s\\n' % (key))"
   ]
  },
  {
   "cell_type": "code",
   "execution_count": 28,
   "metadata": {},
   "outputs": [],
   "source": [
    "bigram = {}\n",
    "getBigram(master_list)\n",
    "bigram = {k: v for k, v in sorted(bigram.items(), key=lambda item: item[1],reverse=True)}\n",
    "bigram = dict(list(bigram.items())[0:100])\n",
    "with open('3c_bigram.pickle', 'wb') as handle:\n",
    "    pickle.dump(bigram, handle, protocol=pickle.HIGHEST_PROTOCOL)\n",
    "with open(\"top100_bi_syll.txt\", 'w',encoding='utf-8') as f: \n",
    "    for key, value in bigram.items(): \n",
    "        f.write('%s\\n' % (key))"
   ]
  },
  {
   "cell_type": "code",
   "execution_count": 29,
   "metadata": {},
   "outputs": [],
   "source": [
    "trigram = {}\n",
    "getTrigram(master_list)\n",
    "trigram = {k: v for k, v in sorted(trigram.items(), key=lambda item: item[1],reverse=True)}\n",
    "trigram = dict(list(trigram.items())[0:100])\n",
    "with open('3c_trigram.pickle', 'wb') as handle:\n",
    "    pickle.dump(trigram, handle, protocol=pickle.HIGHEST_PROTOCOL)\n",
    "with open(\"top100_tri_syll.txt\", 'w',encoding='utf-8') as f: \n",
    "    for key, value in trigram.items(): \n",
    "        f.write('%s\\n' % (key))"
   ]
  }
 ],
 "metadata": {
  "interpreter": {
   "hash": "2be5faf79681da6f2a61fdfdd5405d65d042280f7fba6178067603e3a2925119"
  },
  "kernelspec": {
   "display_name": "Python 3 (ipykernel)",
   "language": "python",
   "name": "python3"
  },
  "language_info": {
   "codemirror_mode": {
    "name": "ipython",
    "version": 3
   },
   "file_extension": ".py",
   "mimetype": "text/x-python",
   "name": "python",
   "nbconvert_exporter": "python",
   "pygments_lexer": "ipython3",
   "version": "3.9.7"
  }
 },
 "nbformat": 4,
 "nbformat_minor": 2
}
