{
 "cells": [
  {
   "cell_type": "code",
   "execution_count": 3,
   "metadata": {},
   "outputs": [],
   "source": [
    "import pickle"
   ]
  },
  {
   "cell_type": "code",
   "execution_count": 4,
   "metadata": {},
   "outputs": [],
   "source": [
    "with open('final_unigram.pickle', 'rb') as handle:\n",
    "    final_unigram = pickle.load(handle)"
   ]
  },
  {
   "cell_type": "code",
   "execution_count": 5,
   "metadata": {},
   "outputs": [],
   "source": [
    "final_unigram = {k: v for k, v in sorted(final_unigram.items(), key=lambda item: item[1],reverse=True)}"
   ]
  },
  {
   "cell_type": "code",
   "execution_count": 6,
   "metadata": {},
   "outputs": [],
   "source": [
    "with open('final_unigram.pickle', 'wb') as handle:\n",
    "    pickle.dump(final_unigram, handle, protocol=pickle.HIGHEST_PROTOCOL)"
   ]
  },
  {
   "cell_type": "code",
   "execution_count": 7,
   "metadata": {},
   "outputs": [],
   "source": [
    "top_100_uni = dict(list(final_unigram.items())[0:101])"
   ]
  },
  {
   "cell_type": "code",
   "execution_count": 8,
   "metadata": {},
   "outputs": [
    {
     "data": {
      "text/plain": [
       "{'के': 16514449,\n",
       " 'में': 12472351,\n",
       " 'की': 9970310,\n",
       " 'को': 7588347,\n",
       " 'से': 7206502,\n",
       " 'है': 6360109,\n",
       " 'और': 5957395,\n",
       " 'का': 5696327,\n",
       " 'ने': 5324370,\n",
       " 'है।': 4664960,\n",
       " 'पर': 4623965,\n",
       " 'कि': 4019906,\n",
       " 'भी': 3345204,\n",
       " 'एक': 2586038,\n",
       " 'लिए': 2543426,\n",
       " 'इस': 2498428,\n",
       " 'नहीं': 2421861,\n",
       " 'हैं': 2402605,\n",
       " 'कर': 2357889,\n",
       " 'ही': 2115510,\n",
       " 'हो': 1776244,\n",
       " 'हैं।': 1759544,\n",
       " 'तो': 1747588,\n",
       " 'यह': 1628723,\n",
       " 'किया': 1619588,\n",
       " 'करने': 1544196,\n",
       " 'कहा': 1542012,\n",
       " 'साथ': 1325970,\n",
       " 'गया': 1215445,\n",
       " 'बाद': 1214683,\n",
       " 'अपने': 1087720,\n",
       " 'रहे': 1011791,\n",
       " 'था': 986800,\n",
       " 'तक': 985266,\n",
       " 'हुए': 964863,\n",
       " 'रहा': 912089,\n",
       " 'उन्होंने': 876205,\n",
       " 'दिया': 875422,\n",
       " 'रही': 869040,\n",
       " 'लेकिन': 858204,\n",
       " 'जा': 857832,\n",
       " 'जो': 845642,\n",
       " 'सरकार': 814231,\n",
       " 'वह': 797591,\n",
       " 'कुछ': 769023,\n",
       " 'पहले': 743653,\n",
       " 'होने': 708786,\n",
       " 'व': 693622,\n",
       " 'लोगों': 680040,\n",
       " 'कोई': 671810,\n",
       " 'अब': 670953,\n",
       " 'वाले': 667962,\n",
       " 'था।': 652401,\n",
       " 'अपनी': 651289,\n",
       " 'गई': 650918,\n",
       " 'या': 650543,\n",
       " 'करते': 650186,\n",
       " 'भारत': 645182,\n",
       " 'इसके': 638747,\n",
       " 'आप': 637853,\n",
       " 'पुलिस': 626483,\n",
       " 'ये': 624013,\n",
       " 'किसी': 608979,\n",
       " 'सिंह': 602050,\n",
       " 'बात': 601879,\n",
       " 'तरह': 542296,\n",
       " 'साल': 542153,\n",
       " 'लेकर': 533739,\n",
       " 'जब': 531013,\n",
       " 'थी': 525126,\n",
       " 'कई': 520407,\n",
       " 'उनके': 515416,\n",
       " 'आज': 515245,\n",
       " 'बताया': 514800,\n",
       " 'समय': 512843,\n",
       " 'गए': 511067,\n",
       " 'दी': 510813,\n",
       " 'देश': 498635,\n",
       " 'न': 493822,\n",
       " 'द्वारा': 481093,\n",
       " 'दो': 480086,\n",
       " 'दिन': 475572,\n",
       " 'उन्हें': 469447,\n",
       " 'सभी': 460877,\n",
       " 'काम': 459622,\n",
       " 'हुआ': 456365,\n",
       " 'बार': 454938,\n",
       " 'जाता': 450507,\n",
       " 'थे': 450252,\n",
       " 'हम': 445785,\n",
       " 'इन': 442013,\n",
       " 'होता': 431126,\n",
       " 'फिर': 431108,\n",
       " 'हुई': 429545,\n",
       " 'जाने': 426548,\n",
       " 'करना': 426148,\n",
       " 'लोग': 419663,\n",
       " 'वे': 413076,\n",
       " 'रूप': 411231,\n",
       " 'बहुत': 410824,\n",
       " 'सकता': 404818}"
      ]
     },
     "execution_count": 8,
     "metadata": {},
     "output_type": "execute_result"
    }
   ],
   "source": [
    "with open(\"top100_uni_word.txt\", 'w',encoding='utf-8') as f: \n",
    "    for key, value in top_100_uni.items(): \n",
    "        f.write('%s\\n' % (key))"
   ]
  }
 ],
 "metadata": {
  "interpreter": {
   "hash": "2be5faf79681da6f2a61fdfdd5405d65d042280f7fba6178067603e3a2925119"
  },
  "kernelspec": {
   "display_name": "Python 3 (ipykernel)",
   "language": "python",
   "name": "python3"
  },
  "language_info": {
   "codemirror_mode": {
    "name": "ipython",
    "version": 3
   },
   "file_extension": ".py",
   "mimetype": "text/x-python",
   "name": "python",
   "nbconvert_exporter": "python",
   "pygments_lexer": "ipython3",
   "version": "3.9.7"
  }
 },
 "nbformat": 4,
 "nbformat_minor": 2
}
