{
  "cells": [
    {
      "cell_type": "code",
      "execution_count": 1,
      "metadata": {
        "colab": {
          "base_uri": "https://localhost:8080/"
        },
        "id": "kWBf0jHKUc2f",
        "outputId": "c3c6346a-e757-4534-d4b4-b3c5176e71a9"
      },
      "outputs": [
        {
          "name": "stdout",
          "output_type": "stream",
          "text": [
            "Drive already mounted at /content/drive/; to attempt to forcibly remount, call drive.mount(\"/content/drive/\", force_remount=True).\n"
          ]
        }
      ],
      "source": [
        "import pickle\n",
        "import os\n",
        "from google.colab import drive\n",
        "drive.mount('/content/drive/')"
      ]
    },
    {
      "cell_type": "code",
      "execution_count": 2,
      "metadata": {
        "colab": {
          "base_uri": "https://localhost:8080/"
        },
        "id": "APlP2gdYUkkB",
        "outputId": "a39403a7-c914-436b-840d-d81d8fd6d650"
      },
      "outputs": [
        {
          "name": "stdout",
          "output_type": "stream",
          "text": [
            "/content/drive/My Drive/unigram\n"
          ]
        }
      ],
      "source": [
        "%cd /content/drive/My Drive/unigram/"
      ]
    },
    {
      "cell_type": "code",
      "execution_count": 3,
      "metadata": {
        "id": "0qUPCodFUc2j"
      },
      "outputs": [],
      "source": [
        "tot_dict = {}"
      ]
    },
    {
      "cell_type": "code",
      "execution_count": 4,
      "metadata": {
        "id": "erLgMZHyUc2j"
      },
      "outputs": [],
      "source": [
        "hindiVowels=['अ','आ','इ','ई','उ','ऊ','ऋ','ए','ऐ','ओ','औ','अं','अ:']\n",
        "hindiConsonant=['क', 'ख', 'ग', 'घ', 'ङ', 'च', 'छ', 'ज', 'झ', 'ञ', 'ट', 'ठ', 'ड', 'ढ', 'ण', 'त', 'थ', 'द', 'ध', 'न', 'ऩ', 'प', 'फ', 'ब', 'भ', 'म', 'य', 'र', 'ऱ', 'ल', 'ळ', 'ऴ', 'व', 'श', 'ष', 'स', 'ह',]"
      ]
    },
    {
      "cell_type": "code",
      "execution_count": 5,
      "metadata": {
        "id": "FJdSvcu5Uc2q"
      },
      "outputs": [],
      "source": [
        "hindiMatra = {\n",
        "'ा': 'आ',\n",
        " 'ि': 'इ',\n",
        " 'ी': 'ई',\n",
        " 'ु': 'उ ',\n",
        " 'ू': 'ऊ',\n",
        " 'ृ': 'ऋ',     \n",
        " 'े': 'ए',\n",
        " 'ै': 'ऐ',\n",
        " 'ो': 'ओ',\n",
        " 'ौ': 'औ',\n",
        " 'ं': 'अं',\n",
        " ':': 'अ:'}"
      ]
    },
    {
      "cell_type": "code",
      "execution_count": 6,
      "metadata": {
        "id": "2LSp8bq_Uc2r"
      },
      "outputs": [],
      "source": [
        "hindiCharacters=['ऀ','ँ','ं','ः','ऄ','अ','आ','इ','ई','उ','ऊ','ऋ','ऌ','ऍ','ऎ','ए','ऐ','ऑ','ऒ','ओ','औ','क','ख','ग','घ','ङ','च','छ','ज','झ','ञ','ट','ठ','ड','ढ','ण','त','थ','द','ध','न','ऩ','प','फ','ब','भ','म','य','र','ऱ','ल','ळ','ऴ','व','श','ष','स','ह','क्ष','त्र','ज्ञ', 'श्र','ऺ','ऻ','़','ऽ','ा','ि','ी','ु','ू','ृ','ॄ','ॅ','ॆ','े','ै','ॉ','ॊ','ो','ौ','्','ॎ','ॏ','ॐ','ॕ','ॖ','ॗ','क़','ज़','ड़','ढ़','फ़','य़','ॠ','ॡ','ॢ''ॣ','।','॥','॰','ॱ','ॲ','ॳ','ॴ','ॵ','ॶ','ॷ','ॸ','ॹ','ॺ']\n"
      ]
    },
    {
      "cell_type": "code",
      "execution_count": 7,
      "metadata": {
        "id": "y5aG0pqTUc2r"
      },
      "outputs": [],
      "source": [
        "hindiCharMapping={\n",
        " 'क': 'क्',\n",
        " 'ख': 'ख्',\n",
        " 'ग': 'ग्',\n",
        " 'घ': 'घ्',\n",
        " 'ङ': 'ङ्',\n",
        " 'च': 'च्',\n",
        " 'छ': 'छ्',\n",
        " 'ज': 'ज्',\n",
        " 'झ': 'झ्',\n",
        " 'ञ': 'ञ्', \n",
        " 'ट': 'ट्', \n",
        " 'ठ': 'ठ्',\n",
        " 'ड': 'ड्',\n",
        " 'ढ': 'ढ्',\n",
        " 'ण': 'ण्',\n",
        " 'त': 'त्', \n",
        " 'थ': 'थ्',\n",
        " 'द': 'द्',\n",
        " 'ध': 'ध्',\n",
        " 'न': 'न्',\n",
        " 'ऩ': 'ऩ्',\n",
        " 'प': 'प्',\n",
        " 'फ': 'फ्',\n",
        " 'ब': 'ब्',\n",
        " 'भ': 'भ्', \n",
        " 'म': 'म्',\n",
        " 'य': 'य्',\n",
        " 'र': 'र्',\n",
        " 'ऱ': 'ऱ्',\n",
        " 'ल': 'ल्',\n",
        " 'ळ': 'ळ्',\n",
        " 'ऴ': 'ऴ्',\n",
        " 'व': 'व्',\n",
        " 'श': 'श्',\n",
        " 'ष': 'ष्',\n",
        " 'स': 'स्',\n",
        " 'ह': 'ह्',\n",
        " 'ज्ञ': 'ज्'+'ञ्',\n",
        " 'क्ष': 'क्'+'ष्',\n",
        " 'श्र': 'श्'+'र्',\n",
        " 'त्र': 'त्'+'र्'\n",
        "}"
      ]
    },
    {
      "cell_type": "code",
      "execution_count": 8,
      "metadata": {
        "id": "IzKLeqNnUc2r"
      },
      "outputs": [],
      "source": [
        "specialCharacters=[':',';',',','.','\\'','\\\\','/','-','‘','’','(',')','?','[',']','*','+','“','”','!','…','+','{','}','=']"
      ]
    },
    {
      "cell_type": "code",
      "execution_count": 9,
      "metadata": {
        "id": "5Q8lTEoQUc2s"
      },
      "outputs": [],
      "source": [
        "def cleanText(word):\n",
        "    res = \"\"\n",
        "    word.replace('\\n','').replace('\\u200d','').replace('\\xa0','').replace('\\t','').replace('\"','')\n",
        "    for i in word:\n",
        "            if i not in specialCharacters:\n",
        "                if i in hindiCharacters or i in hindiCharMapping.keys() or i in hindiVowels or i in hindiConsonant:\n",
        "                    res+=i\n",
        "    return res"
      ]
    },
    {
      "cell_type": "code",
      "execution_count": 10,
      "metadata": {
        "id": "1pYkcPS7Uc2s"
      },
      "outputs": [],
      "source": [
        "def removeDigits(word):\n",
        "    ok = False\n",
        "    if word.isnumeric():\n",
        "        return \"\"\n",
        "    else:\n",
        "        return word"
      ]
    },
    {
      "cell_type": "code",
      "execution_count": 11,
      "metadata": {
        "id": "slm7GkdMUc2s"
      },
      "outputs": [],
      "source": [
        "fileNames = []"
      ]
    },
    {
      "cell_type": "code",
      "execution_count": 12,
      "metadata": {
        "id": "FyGSVAC5Uc2t"
      },
      "outputs": [],
      "source": [
        "for file in os.listdir():\n",
        "    if '.txt' in file:\n",
        "        fileNames.append(file)"
      ]
    },
    {
      "cell_type": "code",
      "execution_count": 13,
      "metadata": {
        "colab": {
          "base_uri": "https://localhost:8080/"
        },
        "id": "xESx_KehUc2t",
        "outputId": "c7beb7e8-d776-43ce-c39f-cccf2a4ce32a"
      },
      "outputs": [
        {
          "data": {
            "text/plain": [
              "['xcn.txt',\n",
              " 'xco.txt',\n",
              " 'xcp.txt',\n",
              " 'xcg.txt',\n",
              " 'xch.txt',\n",
              " 'xci.txt',\n",
              " 'xcj.txt',\n",
              " 'xck.txt',\n",
              " 'xcl.txt',\n",
              " 'xcm.txt']"
            ]
          },
          "execution_count": 13,
          "metadata": {},
          "output_type": "execute_result"
        }
      ],
      "source": [
        "fileNames"
      ]
    },
    {
      "cell_type": "code",
      "execution_count": 14,
      "metadata": {
        "id": "4QSySxNEUc2t"
      },
      "outputs": [],
      "source": [
        "unigram = {}\n",
        "bigram = {}\n",
        "trigram = {}\n",
        "cnt=0"
      ]
    },
    {
      "cell_type": "code",
      "execution_count": 15,
      "metadata": {
        "colab": {
          "base_uri": "https://localhost:8080/"
        },
        "id": "skDM14CnUc2u",
        "outputId": "b6e6000b-3d6f-4bef-9b4f-2188a18ac653"
      },
      "outputs": [
        {
          "name": "stdout",
          "output_type": "stream",
          "text": [
            "0\n",
            "1\n",
            "2\n",
            "3\n",
            "4\n",
            "5\n",
            "6\n",
            "7\n",
            "8\n",
            "9\n"
          ]
        }
      ],
      "source": [
        "for f in fileNames:\n",
        "    print(cnt)\n",
        "    cnt+=1\n",
        "    file=open(f,'r',encoding='utf-8')\n",
        "    file=file.read()\n",
        "    file=file.split()\n",
        "    file = [removeDigits(word) for word in file]\n",
        "    file = [cleanText(word) for word in file]\n",
        "    # for i in range(len(file)):\n",
        "    #   if file[i] in unigram.keys():\n",
        "    #     unigram[file[i]]+=1\n",
        "    #   else:\n",
        "    #     unigram[file[i]]=1\n",
        "\n",
        "    for i in range(len(file)-1):\n",
        "        \n",
        "        tmp = (file[i],file[i+1])\n",
        "        if tmp in bigram.keys():\n",
        "            bigram[tmp]+=1\n",
        "        else:\n",
        "            bigram[tmp]=1\n",
        "    # for i in range(len(file)-2):\n",
        "        \n",
        "    #     tmp = (file[i],file[i+1],file[i+2])\n",
        "    #     if tmp in trigram.keys():\n",
        "    #         trigram[tmp]+=1\n",
        "    #     else:\n",
        "    #         trigram[tmp]=1\n",
        "    \n",
        "    "
      ]
    },
    {
      "cell_type": "code",
      "execution_count": null,
      "metadata": {
        "id": "6C3TI1U3Uc2u"
      },
      "outputs": [],
      "source": [
        "with open('tot_bi_3.pickle', 'wb') as handle:\n",
        "    pickle.dump(bigram, handle, protocol=pickle.HIGHEST_PROTOCOL)"
      ]
    }
  ],
  "metadata": {
    "colab": {
      "collapsed_sections": [],
      "name": "new.ipynb",
      "provenance": []
    },
    "interpreter": {
      "hash": "2be5faf79681da6f2a61fdfdd5405d65d042280f7fba6178067603e3a2925119"
    },
    "kernelspec": {
      "display_name": "Python 3 (ipykernel)",
      "language": "python",
      "name": "python3"
    },
    "language_info": {
      "codemirror_mode": {
        "name": "ipython",
        "version": 3
      },
      "file_extension": ".py",
      "mimetype": "text/x-python",
      "name": "python",
      "nbconvert_exporter": "python",
      "pygments_lexer": "ipython3",
      "version": "3.10.3"
    }
  },
  "nbformat": 4,
  "nbformat_minor": 0
}
