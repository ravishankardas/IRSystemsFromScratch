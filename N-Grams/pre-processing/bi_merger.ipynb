{
 "cells": [
  {
   "cell_type": "code",
   "execution_count": null,
   "metadata": {},
   "outputs": [],
   "source": [
    "import pickle"
   ]
  },
  {
   "cell_type": "code",
   "execution_count": null,
   "metadata": {},
   "outputs": [],
   "source": [
    "bigram = {}"
   ]
  },
  {
   "cell_type": "code",
   "execution_count": null,
   "metadata": {},
   "outputs": [],
   "source": [
    "with open('tot_bi_0.pickle', 'rb') as handle:\n",
    "        a = pickle.load(handle)"
   ]
  },
  {
   "cell_type": "code",
   "execution_count": null,
   "metadata": {},
   "outputs": [],
   "source": [
    "a = {k: v for k, v in sorted(a.items(), key=lambda item: item[1],reverse=True)}\n",
    "a = dict(list(a.items())[0:100])\n",
    "dest = bigram | a\n",
    "del a\n",
    "bigram = dest"
   ]
  },
  {
   "cell_type": "code",
   "execution_count": null,
   "metadata": {},
   "outputs": [],
   "source": [
    "with open('tot_bi_1.pickle', 'rb') as handle:\n",
    "        b = pickle.load(handle)"
   ]
  },
  {
   "cell_type": "code",
   "execution_count": null,
   "metadata": {},
   "outputs": [],
   "source": [
    "b = {k: v for k, v in sorted(b.items(), key=lambda item: item[1],reverse=True)}\n",
    "b = dict(list(b.items())[0:100])\n",
    "dest = bigram | b\n",
    "del b\n",
    "bigram = dest"
   ]
  },
  {
   "cell_type": "code",
   "execution_count": null,
   "metadata": {},
   "outputs": [],
   "source": [
    "with open('tot_bi_2.pickle', 'rb') as handle:\n",
    "        c = pickle.load(handle)"
   ]
  },
  {
   "cell_type": "code",
   "execution_count": null,
   "metadata": {},
   "outputs": [],
   "source": [
    "c = {k: v for k, v in sorted(c.items(), key=lambda item: item[1],reverse=True)}\n",
    "c = dict(list(c.items())[0:100000])\n",
    "dest = bigram | c\n",
    "del c\n",
    "bigram = dest"
   ]
  },
  {
   "cell_type": "code",
   "execution_count": null,
   "metadata": {},
   "outputs": [],
   "source": [
    "with open('tot_bi_3.pickle', 'rb') as handle:\n",
    "        d = pickle.load(handle)"
   ]
  },
  {
   "cell_type": "code",
   "execution_count": null,
   "metadata": {},
   "outputs": [],
   "source": [
    "d = {k: v for k, v in sorted(d.items(), key=lambda item: item[1],reverse=True)}\n",
    "d = dict(list(d.items())[0:100000])\n",
    "dest = bigram | d\n",
    "del d\n",
    "bigram = dest"
   ]
  },
  {
   "cell_type": "code",
   "execution_count": null,
   "metadata": {},
   "outputs": [],
   "source": [
    "with open('tot_bi_4.pickle', 'rb') as handle:\n",
    "        e = pickle.load(handle)"
   ]
  },
  {
   "cell_type": "code",
   "execution_count": null,
   "metadata": {},
   "outputs": [],
   "source": [
    "e = {k: v for k, v in sorted(e.items(), key=lambda item: item[1],reverse=True)}\n",
    "e = dict(list(e.items())[0:100000])\n",
    "dest = bigram | e\n",
    "del e\n",
    "bigram = dest"
   ]
  },
  {
   "cell_type": "code",
   "execution_count": null,
   "metadata": {},
   "outputs": [],
   "source": [
    "with open('tot_bi_5.pickle', 'rb') as handle:\n",
    "        f = pickle.load(handle)"
   ]
  },
  {
   "cell_type": "code",
   "execution_count": null,
   "metadata": {},
   "outputs": [],
   "source": [
    "f = {k: v for k, v in sorted(f.items(), key=lambda item: item[1],reverse=True)}\n",
    "f = dict(list(f.items())[0:100000])\n",
    "dest = bigram | f\n",
    "del f\n",
    "bigram = dest"
   ]
  },
  {
   "cell_type": "code",
   "execution_count": null,
   "metadata": {},
   "outputs": [],
   "source": [
    "with open('tot_bi_6.pickle', 'rb') as handle:\n",
    "        g = pickle.load(handle)"
   ]
  },
  {
   "cell_type": "code",
   "execution_count": null,
   "metadata": {},
   "outputs": [],
   "source": [
    "g = {k: v for k, v in sorted(g.items(), key=lambda item: item[1],reverse=True)}\n",
    "g = dict(list(g.items())[0:100000])\n",
    "dest = bigram | g\n",
    "del g\n",
    "bigram = dest"
   ]
  },
  {
   "cell_type": "code",
   "execution_count": null,
   "metadata": {},
   "outputs": [],
   "source": [
    "with open('tot_bi_7.pickle', 'rb') as handle:\n",
    "        h = pickle.load(handle)"
   ]
  },
  {
   "cell_type": "code",
   "execution_count": null,
   "metadata": {},
   "outputs": [],
   "source": [
    "h = {k: v for k, v in sorted(h.items(), key=lambda item: item[1],reverse=True)}\n",
    "b = dict(list(b.items())[0:100000])\n",
    "dest = bigram | h\n",
    "del h\n",
    "bigram = dest"
   ]
  },
  {
   "cell_type": "code",
   "execution_count": null,
   "metadata": {},
   "outputs": [],
   "source": [
    "with open('tot_bi_8.pickle', 'rb') as handle:\n",
    "        i = pickle.load(handle)"
   ]
  },
  {
   "cell_type": "code",
   "execution_count": null,
   "metadata": {},
   "outputs": [],
   "source": [
    "i = {k: v for k, v in sorted(i.items(), key=lambda item: item[1],reverse=True)}\n",
    "i = dict(list(i.items())[0:100000])\n",
    "dest = bigram | i\n",
    "del i\n",
    "bigram = dest"
   ]
  },
  {
   "cell_type": "code",
   "execution_count": null,
   "metadata": {},
   "outputs": [],
   "source": [
    "with open('tot_bi_9.pickle', 'rb') as handle:\n",
    "        j = pickle.load(handle)"
   ]
  },
  {
   "cell_type": "code",
   "execution_count": null,
   "metadata": {},
   "outputs": [],
   "source": [
    "j = {k: v for k, v in sorted(j.items(), key=lambda item: item[1],reverse=True)}\n",
    "j = dict(list(b.items())[0:100000])\n",
    "dest = bigram | j\n",
    "del j\n",
    "bigram = dest"
   ]
  },
  {
   "cell_type": "code",
   "execution_count": null,
   "metadata": {},
   "outputs": [],
   "source": [
    "bigram = {k: v for k, v in sorted(bigram.items(), key=lambda item: item[1],reverse=True)}"
   ]
  },
  {
   "cell_type": "code",
   "execution_count": null,
   "metadata": {},
   "outputs": [],
   "source": [
    "with open('final_bigram.pickle', 'wb') as handle:\n",
    "    pickle.dump(bigram, handle, protocol=pickle.HIGHEST_PROTOCOL)"
   ]
  },
  {
   "cell_type": "code",
   "execution_count": null,
   "metadata": {},
   "outputs": [],
   "source": [
    "bigram = dict(list(bigram.items())[0:100])"
   ]
  },
  {
   "cell_type": "code",
   "execution_count": null,
   "metadata": {},
   "outputs": [],
   "source": [
    "with open(\"top100_bi_word.txt\", 'w',encoding='utf-8') as f: \n",
    "    for key, value in bigram.items(): \n",
    "        f.write('%s\\n' % (key))"
   ]
  }
 ],
 "metadata": {
  "kernelspec": {
   "display_name": "Python 3.10.5 64-bit",
   "language": "python",
   "name": "python3"
  },
  "language_info": {
   "codemirror_mode": {
    "name": "ipython",
    "version": 3
   },
   "file_extension": ".py",
   "mimetype": "text/x-python",
   "name": "python",
   "nbconvert_exporter": "python",
   "pygments_lexer": "ipython3",
   "version": "3.10.5"
  },
  "vscode": {
   "interpreter": {
    "hash": "c7af7df4901773a0e355da496bf365ae011b1b331a57bbc9908dae1ee21823d7"
   }
  }
 },
 "nbformat": 4,
 "nbformat_minor": 2
}
